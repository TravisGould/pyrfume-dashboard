{
 "cells": [
  {
   "cell_type": "code",
   "execution_count": 17,
   "id": "7e618b00",
   "metadata": {},
   "outputs": [],
   "source": [
    "import pandas as pd\n",
    "import pyrfume\n",
    "import os\n",
    "from PIL import Image, ImageOps\n",
    "import base64\n",
    "from io import BytesIO"
   ]
  },
  {
   "cell_type": "code",
   "execution_count": 8,
   "id": "aa0437a7",
   "metadata": {},
   "outputs": [
    {
     "name": "stdout",
     "output_type": "stream",
     "text": [
      "(9982, 4)\n"
     ]
    },
    {
     "data": {
      "text/html": [
       "<div>\n",
       "<style scoped>\n",
       "    .dataframe tbody tr th:only-of-type {\n",
       "        vertical-align: middle;\n",
       "    }\n",
       "\n",
       "    .dataframe tbody tr th {\n",
       "        vertical-align: top;\n",
       "    }\n",
       "\n",
       "    .dataframe thead th {\n",
       "        text-align: right;\n",
       "    }\n",
       "</style>\n",
       "<table border=\"1\" class=\"dataframe\">\n",
       "  <thead>\n",
       "    <tr style=\"text-align: right;\">\n",
       "      <th></th>\n",
       "      <th>MolecularWeight</th>\n",
       "      <th>IsomericSMILES</th>\n",
       "      <th>IUPACName</th>\n",
       "      <th>name</th>\n",
       "    </tr>\n",
       "    <tr>\n",
       "      <th>CID</th>\n",
       "      <th></th>\n",
       "      <th></th>\n",
       "      <th></th>\n",
       "      <th></th>\n",
       "    </tr>\n",
       "  </thead>\n",
       "  <tbody>\n",
       "    <tr>\n",
       "      <th>-35_CC(C)CC(C)(O)C1CCCS1</th>\n",
       "      <td>188.336</td>\n",
       "      <td>CC(C)CC(C)(O)C1CCCS1</td>\n",
       "      <td>NaN</td>\n",
       "      <td>Isopropylmethyltetrahydrothiophenyl-ethanol</td>\n",
       "    </tr>\n",
       "    <tr>\n",
       "      <th>-34_CCCCCCCCC(=O)C(=O)OC(=C(C)C)C(O)CO</th>\n",
       "      <td>300.395</td>\n",
       "      <td>CCCCCCCCC(=O)C(=O)OC(=C(C)C)C(O)CO</td>\n",
       "      <td>NaN</td>\n",
       "      <td>Isopropylideneglyceryl oxodecanoate</td>\n",
       "    </tr>\n",
       "    <tr>\n",
       "      <th>-33_CCCCC=COC(=O)C=CCCCCC</th>\n",
       "      <td>224.344</td>\n",
       "      <td>CCCCC=COC(=O)C=CCCCCC</td>\n",
       "      <td>NaN</td>\n",
       "      <td>Hexenyl octenoate</td>\n",
       "    </tr>\n",
       "    <tr>\n",
       "      <th>-32_CCCC(CCOC)[SH]=C(O)OCC</th>\n",
       "      <td>222.350</td>\n",
       "      <td>CCCC(CCOC)[SH]=C(O)OCC</td>\n",
       "      <td>NaN</td>\n",
       "      <td>Ethyl S-(1-methoxyhexan-3-yl)carbonothioate</td>\n",
       "    </tr>\n",
       "    <tr>\n",
       "      <th>-31_CCCCCCCCC(S)C=O</th>\n",
       "      <td>188.336</td>\n",
       "      <td>CCCCCCCCC(S)C=O</td>\n",
       "      <td>NaN</td>\n",
       "      <td>Mercaptodecanal</td>\n",
       "    </tr>\n",
       "  </tbody>\n",
       "</table>\n",
       "</div>"
      ],
      "text/plain": [
       "                                        MolecularWeight  \\\n",
       "CID                                                       \n",
       "-35_CC(C)CC(C)(O)C1CCCS1                        188.336   \n",
       "-34_CCCCCCCCC(=O)C(=O)OC(=C(C)C)C(O)CO          300.395   \n",
       "-33_CCCCC=COC(=O)C=CCCCCC                       224.344   \n",
       "-32_CCCC(CCOC)[SH]=C(O)OCC                      222.350   \n",
       "-31_CCCCCCCCC(S)C=O                             188.336   \n",
       "\n",
       "                                                            IsomericSMILES  \\\n",
       "CID                                                                          \n",
       "-35_CC(C)CC(C)(O)C1CCCS1                              CC(C)CC(C)(O)C1CCCS1   \n",
       "-34_CCCCCCCCC(=O)C(=O)OC(=C(C)C)C(O)CO  CCCCCCCCC(=O)C(=O)OC(=C(C)C)C(O)CO   \n",
       "-33_CCCCC=COC(=O)C=CCCCCC                            CCCCC=COC(=O)C=CCCCCC   \n",
       "-32_CCCC(CCOC)[SH]=C(O)OCC                          CCCC(CCOC)[SH]=C(O)OCC   \n",
       "-31_CCCCCCCCC(S)C=O                                        CCCCCCCCC(S)C=O   \n",
       "\n",
       "                                       IUPACName  \\\n",
       "CID                                                \n",
       "-35_CC(C)CC(C)(O)C1CCCS1                     NaN   \n",
       "-34_CCCCCCCCC(=O)C(=O)OC(=C(C)C)C(O)CO       NaN   \n",
       "-33_CCCCC=COC(=O)C=CCCCCC                    NaN   \n",
       "-32_CCCC(CCOC)[SH]=C(O)OCC                   NaN   \n",
       "-31_CCCCCCCCC(S)C=O                          NaN   \n",
       "\n",
       "                                                                               name  \n",
       "CID                                                                                  \n",
       "-35_CC(C)CC(C)(O)C1CCCS1                Isopropylmethyltetrahydrothiophenyl-ethanol  \n",
       "-34_CCCCCCCCC(=O)C(=O)OC(=C(C)C)C(O)CO          Isopropylideneglyceryl oxodecanoate  \n",
       "-33_CCCCC=COC(=O)C=CCCCCC                                         Hexenyl octenoate  \n",
       "-32_CCCC(CCOC)[SH]=C(O)OCC              Ethyl S-(1-methoxyhexan-3-yl)carbonothioate  \n",
       "-31_CCCCCCCCC(S)C=O                                                 Mercaptodecanal  "
      ]
     },
     "execution_count": 8,
     "metadata": {},
     "output_type": "execute_result"
    }
   ],
   "source": [
    "# Get SMILES from master molecule list\n",
    "molecule_url = 'https://raw.githubusercontent.com/TravisGould/pyrfume-data/molecules_update/molecules/molecules.csv'\n",
    "molecules = pd.read_csv(molecule_url, index_col=0)\n",
    "\n",
    "print(molecules.shape)\n",
    "molecules.head()"
   ]
  },
  {
   "cell_type": "code",
   "execution_count": 18,
   "id": "f28f1f93",
   "metadata": {},
   "outputs": [
    {
     "name": "stdout",
     "output_type": "stream",
     "text": [
      "Could not create structure for [NH4+].[NH4+].F[Si-2](F)(F)(F)(F)F\n",
      "Could not create structure for F[Si-2](F)(F)(F)(F)F.[Na+].[Na+]\n"
     ]
    }
   ],
   "source": [
    "# Calculate stucture for each unique SMILES\n",
    "smiles = molecules[~molecules.index.duplicated()]['IsomericSMILES'].to_list()\n",
    "\n",
    "im_dict = {}\n",
    "for smi in set(smiles):\n",
    "    try:\n",
    "        image = pyrfume.odorants.smiles_to_image(smi, png=False, crop=True, padding=0, size=150)\n",
    "\n",
    "        # Crop\n",
    "        bbox = ImageOps.invert(image).getbbox()\n",
    "        image = image.crop(bbox)\n",
    "\n",
    "        # Convert to base64\n",
    "        buffer = BytesIO()\n",
    "        image.save(buffer, format='PNG')\n",
    "        image = buffer.getvalue()\n",
    "        image = base64.b64encode(image).decode(\"utf8\")\n",
    "\n",
    "        im_dict[smi] = image\n",
    "    except:\n",
    "        print(f'Could not create structure for {smi}')"
   ]
  },
  {
   "cell_type": "code",
   "execution_count": 21,
   "id": "a86d6936",
   "metadata": {},
   "outputs": [
    {
     "name": "stdout",
     "output_type": "stream",
     "text": [
      "(9967, 1)\n"
     ]
    },
    {
     "data": {
      "text/html": [
       "<div>\n",
       "<style scoped>\n",
       "    .dataframe tbody tr th:only-of-type {\n",
       "        vertical-align: middle;\n",
       "    }\n",
       "\n",
       "    .dataframe tbody tr th {\n",
       "        vertical-align: top;\n",
       "    }\n",
       "\n",
       "    .dataframe thead th {\n",
       "        text-align: right;\n",
       "    }\n",
       "</style>\n",
       "<table border=\"1\" class=\"dataframe\">\n",
       "  <thead>\n",
       "    <tr style=\"text-align: right;\">\n",
       "      <th></th>\n",
       "      <th>Image_base64</th>\n",
       "    </tr>\n",
       "    <tr>\n",
       "      <th>SMILES</th>\n",
       "      <th></th>\n",
       "    </tr>\n",
       "  </thead>\n",
       "  <tbody>\n",
       "    <tr>\n",
       "      <th>CC(C)C1=CC=CC=C1[N+](=O)[O-]</th>\n",
       "      <td>iVBORw0KGgoAAAANSUhEUgAAAHkAAACKCAIAAAABnnKpAA...</td>\n",
       "    </tr>\n",
       "    <tr>\n",
       "      <th>CCCCOC(=O)C=CC1=CC=CC=C1</th>\n",
       "      <td>iVBORw0KGgoAAAANSUhEUgAAAIsAAAAtCAIAAAARPg9bAA...</td>\n",
       "    </tr>\n",
       "    <tr>\n",
       "      <th>CCCCC1=CC=C(S1)CC</th>\n",
       "      <td>iVBORw0KGgoAAAANSUhEUgAAAIoAAAAwCAIAAABBtHUgAA...</td>\n",
       "    </tr>\n",
       "    <tr>\n",
       "      <th>CCOCC1=CC=CC=C1O</th>\n",
       "      <td>iVBORw0KGgoAAAANSUhEUgAAAIsAAABTCAIAAAAgFmPqAA...</td>\n",
       "    </tr>\n",
       "    <tr>\n",
       "      <th>CC(=C)C(=O)O</th>\n",
       "      <td>iVBORw0KGgoAAAANSUhEUgAAAIsAAAByCAIAAADs5rV5AA...</td>\n",
       "    </tr>\n",
       "  </tbody>\n",
       "</table>\n",
       "</div>"
      ],
      "text/plain": [
       "                                                                   Image_base64\n",
       "SMILES                                                                         \n",
       "CC(C)C1=CC=CC=C1[N+](=O)[O-]  iVBORw0KGgoAAAANSUhEUgAAAHkAAACKCAIAAAABnnKpAA...\n",
       "CCCCOC(=O)C=CC1=CC=CC=C1      iVBORw0KGgoAAAANSUhEUgAAAIsAAAAtCAIAAAARPg9bAA...\n",
       "CCCCC1=CC=C(S1)CC             iVBORw0KGgoAAAANSUhEUgAAAIoAAAAwCAIAAABBtHUgAA...\n",
       "CCOCC1=CC=CC=C1O              iVBORw0KGgoAAAANSUhEUgAAAIsAAABTCAIAAAAgFmPqAA...\n",
       "CC(=C)C(=O)O                  iVBORw0KGgoAAAANSUhEUgAAAIsAAAByCAIAAADs5rV5AA..."
      ]
     },
     "execution_count": 21,
     "metadata": {},
     "output_type": "execute_result"
    }
   ],
   "source": [
    "# Convert to dataframe\n",
    "df = pd.DataFrame.from_dict(im_dict, orient='index', columns=['Image_base64'])\n",
    "df.index.name = 'SMILES'\n",
    "\n",
    "print(df.shape)\n",
    "df.head()"
   ]
  },
  {
   "cell_type": "code",
   "execution_count": 22,
   "id": "3b34082c",
   "metadata": {},
   "outputs": [],
   "source": [
    "# Write to disk\n",
    "df.to_csv(os.path.join('../', 'static', 'structures.csv'))"
   ]
  }
 ],
 "metadata": {
  "kernelspec": {
   "display_name": "Python 3 (ipykernel)",
   "language": "python",
   "name": "python3"
  },
  "language_info": {
   "codemirror_mode": {
    "name": "ipython",
    "version": 3
   },
   "file_extension": ".py",
   "mimetype": "text/x-python",
   "name": "python",
   "nbconvert_exporter": "python",
   "pygments_lexer": "ipython3",
   "version": "3.9.12"
  }
 },
 "nbformat": 4,
 "nbformat_minor": 5
}
