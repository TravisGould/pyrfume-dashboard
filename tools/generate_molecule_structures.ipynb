{
 "cells": [
  {
   "cell_type": "code",
   "execution_count": 3,
   "id": "7e618b00",
   "metadata": {},
   "outputs": [],
   "source": [
    "import pandas as pd\n",
    "import pyrfume\n",
    "import os\n",
    "from PIL import Image, ImageOps\n",
    "import base64\n",
    "from io import BytesIO"
   ]
  },
  {
   "cell_type": "code",
   "execution_count": 4,
   "id": "aa0437a7",
   "metadata": {},
   "outputs": [
    {
     "name": "stdout",
     "output_type": "stream",
     "text": [
      "(9984, 4)\n"
     ]
    },
    {
     "data": {
      "text/html": [
       "<div>\n",
       "<style scoped>\n",
       "    .dataframe tbody tr th:only-of-type {\n",
       "        vertical-align: middle;\n",
       "    }\n",
       "\n",
       "    .dataframe tbody tr th {\n",
       "        vertical-align: top;\n",
       "    }\n",
       "\n",
       "    .dataframe thead th {\n",
       "        text-align: right;\n",
       "    }\n",
       "</style>\n",
       "<table border=\"1\" class=\"dataframe\">\n",
       "  <thead>\n",
       "    <tr style=\"text-align: right;\">\n",
       "      <th></th>\n",
       "      <th>MolecularWeight</th>\n",
       "      <th>IsomericSMILES</th>\n",
       "      <th>IUPACName</th>\n",
       "      <th>name</th>\n",
       "    </tr>\n",
       "    <tr>\n",
       "      <th>CID</th>\n",
       "      <th></th>\n",
       "      <th></th>\n",
       "      <th></th>\n",
       "      <th></th>\n",
       "    </tr>\n",
       "  </thead>\n",
       "  <tbody>\n",
       "    <tr>\n",
       "      <th>-955348933095</th>\n",
       "      <td>240.387</td>\n",
       "      <td>CCCCC=COC(=O)CCCCCCCC</td>\n",
       "      <td>NaN</td>\n",
       "      <td>Hexenyl nonanoate</td>\n",
       "    </tr>\n",
       "    <tr>\n",
       "      <th>-923209957509</th>\n",
       "      <td>196.290</td>\n",
       "      <td>CC(=O)OCC1C=CC(C(C)C)CC1</td>\n",
       "      <td>NaN</td>\n",
       "      <td>Tetrahydrocuminyl acetate</td>\n",
       "    </tr>\n",
       "    <tr>\n",
       "      <th>-874408321546</th>\n",
       "      <td>244.331</td>\n",
       "      <td>CCCCCCCCC(OC(C)=O)C(=O)OC</td>\n",
       "      <td>NaN</td>\n",
       "      <td>Methyl acetoxydecanoate</td>\n",
       "    </tr>\n",
       "    <tr>\n",
       "      <th>-873963935677</th>\n",
       "      <td>198.306</td>\n",
       "      <td>CCCCC=COC(=O)C(C)CCC</td>\n",
       "      <td>NaN</td>\n",
       "      <td>Hexenyl methylvalerate</td>\n",
       "    </tr>\n",
       "    <tr>\n",
       "      <th>-862841422647</th>\n",
       "      <td>148.271</td>\n",
       "      <td>CCCC(S)COCC</td>\n",
       "      <td>NaN</td>\n",
       "      <td>Ethoxymethylbutanethiol</td>\n",
       "    </tr>\n",
       "  </tbody>\n",
       "</table>\n",
       "</div>"
      ],
      "text/plain": [
       "               MolecularWeight             IsomericSMILES IUPACName  \\\n",
       "CID                                                                   \n",
       "-955348933095          240.387      CCCCC=COC(=O)CCCCCCCC       NaN   \n",
       "-923209957509          196.290   CC(=O)OCC1C=CC(C(C)C)CC1       NaN   \n",
       "-874408321546          244.331  CCCCCCCCC(OC(C)=O)C(=O)OC       NaN   \n",
       "-873963935677          198.306       CCCCC=COC(=O)C(C)CCC       NaN   \n",
       "-862841422647          148.271                CCCC(S)COCC       NaN   \n",
       "\n",
       "                                    name  \n",
       "CID                                       \n",
       "-955348933095          Hexenyl nonanoate  \n",
       "-923209957509  Tetrahydrocuminyl acetate  \n",
       "-874408321546    Methyl acetoxydecanoate  \n",
       "-873963935677     Hexenyl methylvalerate  \n",
       "-862841422647    Ethoxymethylbutanethiol  "
      ]
     },
     "execution_count": 4,
     "metadata": {},
     "output_type": "execute_result"
    }
   ],
   "source": [
    "# Get SMILES from master molecule list\n",
    "molecules = pyrfume.load_data('molecules/molecules.csv')\n",
    "\n",
    "print(molecules.shape)\n",
    "molecules.head()"
   ]
  },
  {
   "cell_type": "code",
   "execution_count": 5,
   "id": "f28f1f93",
   "metadata": {},
   "outputs": [
    {
     "name": "stdout",
     "output_type": "stream",
     "text": [
      "Could not create structure for F[Si-2](F)(F)(F)(F)F.[Na+].[Na+]\n",
      "Could not create structure for [NH4+].[NH4+].F[Si-2](F)(F)(F)(F)F\n"
     ]
    }
   ],
   "source": [
    "# Calculate stucture for each unique SMILES\n",
    "smiles = molecules[~molecules.index.duplicated()]['IsomericSMILES'].to_list()\n",
    "\n",
    "im_dict = {}\n",
    "for smi in set(smiles):\n",
    "    try:\n",
    "        image = pyrfume.odorants.smiles_to_image(smi, png=False, crop=True, padding=0, size=120)\n",
    "\n",
    "        # Crop\n",
    "        bbox = ImageOps.invert(image).getbbox()\n",
    "        image = image.crop(bbox)\n",
    "\n",
    "        # Convert to base64\n",
    "        buffer = BytesIO()\n",
    "        image.save(buffer, format='PNG')\n",
    "        image = buffer.getvalue()\n",
    "        image = base64.b64encode(image).decode(\"utf8\")\n",
    "\n",
    "        im_dict[smi] = image\n",
    "    except:\n",
    "        print(f'Could not create structure for {smi}')"
   ]
  },
  {
   "cell_type": "code",
   "execution_count": 6,
   "id": "a86d6936",
   "metadata": {},
   "outputs": [
    {
     "name": "stdout",
     "output_type": "stream",
     "text": [
      "(9969, 1)\n"
     ]
    },
    {
     "data": {
      "text/html": [
       "<div>\n",
       "<style scoped>\n",
       "    .dataframe tbody tr th:only-of-type {\n",
       "        vertical-align: middle;\n",
       "    }\n",
       "\n",
       "    .dataframe tbody tr th {\n",
       "        vertical-align: top;\n",
       "    }\n",
       "\n",
       "    .dataframe thead th {\n",
       "        text-align: right;\n",
       "    }\n",
       "</style>\n",
       "<table border=\"1\" class=\"dataframe\">\n",
       "  <thead>\n",
       "    <tr style=\"text-align: right;\">\n",
       "      <th></th>\n",
       "      <th>Image_base64</th>\n",
       "    </tr>\n",
       "    <tr>\n",
       "      <th>SMILES</th>\n",
       "      <th></th>\n",
       "    </tr>\n",
       "  </thead>\n",
       "  <tbody>\n",
       "    <tr>\n",
       "      <th>C12=C(C(=C(C(=C1Cl)Cl)Cl)Cl)C(=O)OC2=O</th>\n",
       "      <td>iVBORw0KGgoAAAANSUhEUgAAAG4AAABsCAIAAAAE8RCnAA...</td>\n",
       "    </tr>\n",
       "    <tr>\n",
       "      <th>CC(=O)C(=O)C1=CC(=C(C=C1)O)OC</th>\n",
       "      <td>iVBORw0KGgoAAAANSUhEUgAAAG4AAABDCAIAAADyC6dEAA...</td>\n",
       "    </tr>\n",
       "    <tr>\n",
       "      <th>CCCCCC(=O)OC(C)(CCC=C(C)C)C=C</th>\n",
       "      <td>iVBORw0KGgoAAAANSUhEUgAAAG8AAABECAIAAAAAzPzCAA...</td>\n",
       "    </tr>\n",
       "    <tr>\n",
       "      <th>CCC(=O)NC1=CC=CC=C1C(=O)OC</th>\n",
       "      <td>iVBORw0KGgoAAAANSUhEUgAAAG4AAABbCAIAAAAdjieyAA...</td>\n",
       "    </tr>\n",
       "    <tr>\n",
       "      <th>CC1=C(C=CC(=C1)Cl)N</th>\n",
       "      <td>iVBORw0KGgoAAAANSUhEUgAAAG4AAAA8CAIAAAAIfxhQAA...</td>\n",
       "    </tr>\n",
       "  </tbody>\n",
       "</table>\n",
       "</div>"
      ],
      "text/plain": [
       "                                                                             Image_base64\n",
       "SMILES                                                                                   \n",
       "C12=C(C(=C(C(=C1Cl)Cl)Cl)Cl)C(=O)OC2=O  iVBORw0KGgoAAAANSUhEUgAAAG4AAABsCAIAAAAE8RCnAA...\n",
       "CC(=O)C(=O)C1=CC(=C(C=C1)O)OC           iVBORw0KGgoAAAANSUhEUgAAAG4AAABDCAIAAADyC6dEAA...\n",
       "CCCCCC(=O)OC(C)(CCC=C(C)C)C=C           iVBORw0KGgoAAAANSUhEUgAAAG8AAABECAIAAAAAzPzCAA...\n",
       "CCC(=O)NC1=CC=CC=C1C(=O)OC              iVBORw0KGgoAAAANSUhEUgAAAG4AAABbCAIAAAAdjieyAA...\n",
       "CC1=C(C=CC(=C1)Cl)N                     iVBORw0KGgoAAAANSUhEUgAAAG4AAAA8CAIAAAAIfxhQAA..."
      ]
     },
     "execution_count": 6,
     "metadata": {},
     "output_type": "execute_result"
    }
   ],
   "source": [
    "# Convert to dataframe\n",
    "df = pd.DataFrame.from_dict(im_dict, orient='index', columns=['Image_base64'])\n",
    "df.index.name = 'SMILES'\n",
    "\n",
    "print(df.shape)\n",
    "df.head()"
   ]
  },
  {
   "cell_type": "code",
   "execution_count": 7,
   "id": "3b34082c",
   "metadata": {},
   "outputs": [],
   "source": [
    "# Write to disk\n",
    "df.to_csv(os.path.join('../', 'static', 'structures.csv'))"
   ]
  }
 ],
 "metadata": {
  "kernelspec": {
   "display_name": "Python 3 (ipykernel)",
   "language": "python",
   "name": "python3"
  },
  "language_info": {
   "codemirror_mode": {
    "name": "ipython",
    "version": 3
   },
   "file_extension": ".py",
   "mimetype": "text/x-python",
   "name": "python",
   "nbconvert_exporter": "python",
   "pygments_lexer": "ipython3",
   "version": "3.9.12"
  }
 },
 "nbformat": 4,
 "nbformat_minor": 5
}
