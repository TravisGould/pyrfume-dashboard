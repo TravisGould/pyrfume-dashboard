{
 "cells": [
  {
   "cell_type": "code",
   "execution_count": 1,
   "id": "2a79dd12-70fc-4ee8-91cf-8224022ffe90",
   "metadata": {},
   "outputs": [],
   "source": [
    "import pandas as pd\n",
    "import pyrfume\n",
    "import os"
   ]
  },
  {
   "cell_type": "code",
   "execution_count": 2,
   "id": "17431927",
   "metadata": {},
   "outputs": [],
   "source": [
    "archives = pyrfume.list_archives()\n",
    "\n",
    "# Skip over archives that are not for sole datasources\n",
    "# Also skip Qian 2022 since not currently formatted to proper design scheme\n",
    "skip_list = ['mordred', 'morgan', 'molecules', 'embedding', 'prediction_targets', 'tools', 'qian_2022']\n",
    "archives = [arc for arc in archives if arc not in skip_list]"
   ]
  },
  {
   "cell_type": "code",
   "execution_count": 48,
   "id": "14a942d3",
   "metadata": {},
   "outputs": [],
   "source": [
    "# pd.DataFrame(archives).to_csv(os.path.join('..', 'static', 'archive_list.csv'), header=None, index=None)"
   ]
  },
  {
   "cell_type": "code",
   "execution_count": 53,
   "id": "1d160a1c",
   "metadata": {},
   "outputs": [],
   "source": [
    "data_dict = {}\n",
    "for arc in archives:\n",
    "    num_molecules, has_behavior, has_physics = 0, False, False\n",
    "    \n",
    "    processed = pyrfume.load_manifest(arc)['processed']\n",
    "    \n",
    "    if 'molecules.csv' in processed:\n",
    "        molecules = pyrfume.load_data(f'{arc}/molecules.csv')\n",
    "        num_molecules = molecules.shape[0]\n",
    "    \n",
    "    for key in processed.keys():\n",
    "        if 'behavior' in key:\n",
    "            has_behavior = True  \n",
    "        if 'physics' in key:\n",
    "            has_physics = True\n",
    "    \n",
    "    data_dict[arc] = {'# Molecules': num_molecules, 'Behavior': has_behavior, 'Physics': has_physics}"
   ]
  },
  {
   "cell_type": "code",
   "execution_count": 55,
   "id": "0ac01dc0",
   "metadata": {},
   "outputs": [
    {
     "data": {
      "text/html": [
       "<div>\n",
       "<style scoped>\n",
       "    .dataframe tbody tr th:only-of-type {\n",
       "        vertical-align: middle;\n",
       "    }\n",
       "\n",
       "    .dataframe tbody tr th {\n",
       "        vertical-align: top;\n",
       "    }\n",
       "\n",
       "    .dataframe thead th {\n",
       "        text-align: right;\n",
       "    }\n",
       "</style>\n",
       "<table border=\"1\" class=\"dataframe\">\n",
       "  <thead>\n",
       "    <tr style=\"text-align: right;\">\n",
       "      <th></th>\n",
       "      <th># Molecules</th>\n",
       "      <th>Behavior</th>\n",
       "      <th>Physics</th>\n",
       "    </tr>\n",
       "    <tr>\n",
       "      <th>Archive</th>\n",
       "      <th></th>\n",
       "      <th></th>\n",
       "      <th></th>\n",
       "    </tr>\n",
       "  </thead>\n",
       "  <tbody>\n",
       "    <tr>\n",
       "      <th>foodb</th>\n",
       "      <td>65819</td>\n",
       "      <td>False</td>\n",
       "      <td>True</td>\n",
       "    </tr>\n",
       "    <tr>\n",
       "      <th>knapsack</th>\n",
       "      <td>48818</td>\n",
       "      <td>False</td>\n",
       "      <td>False</td>\n",
       "    </tr>\n",
       "    <tr>\n",
       "      <th>flavordb</th>\n",
       "      <td>25595</td>\n",
       "      <td>True</td>\n",
       "      <td>False</td>\n",
       "    </tr>\n",
       "    <tr>\n",
       "      <th>sharma_2021b</th>\n",
       "      <td>5105</td>\n",
       "      <td>True</td>\n",
       "      <td>True</td>\n",
       "    </tr>\n",
       "    <tr>\n",
       "      <th>goodscents</th>\n",
       "      <td>4565</td>\n",
       "      <td>True</td>\n",
       "      <td>False</td>\n",
       "    </tr>\n",
       "  </tbody>\n",
       "</table>\n",
       "</div>"
      ],
      "text/plain": [
       "              # Molecules  Behavior  Physics\n",
       "Archive                                     \n",
       "foodb               65819     False     True\n",
       "knapsack            48818     False    False\n",
       "flavordb            25595      True    False\n",
       "sharma_2021b         5105      True     True\n",
       "goodscents           4565      True    False"
      ]
     },
     "execution_count": 55,
     "metadata": {},
     "output_type": "execute_result"
    }
   ],
   "source": [
    "tmp = pd.DataFrame.from_dict(data_dict, orient='index')\n",
    "tmp = tmp.sort_values('# Molecules', ascending=False)\n",
    "tmp.index.name = 'Archive'\n",
    "tmp.head()"
   ]
  },
  {
   "cell_type": "code",
   "execution_count": 43,
   "id": "18c233e4",
   "metadata": {},
   "outputs": [
    {
     "name": "stdout",
     "output_type": "stream",
     "text": [
      "No molecules.csv found for nhanes_2014\n"
     ]
    }
   ],
   "source": [
    "all_molecules = {}\n",
    "for arc in tmp[tmp.Behavor == True].index.to_list():\n",
    "    if arc != 'flavordb':\n",
    "        try:\n",
    "            all_molecules[arc] = pyrfume.load_data(f'{arc}/molecules.csv')\n",
    "        except:\n",
    "            print(f'No molecules.csv found for {arc}')"
   ]
  },
  {
   "cell_type": "code",
   "execution_count": 4,
   "id": "e5da3cb5",
   "metadata": {},
   "outputs": [
    {
     "name": "stdout",
     "output_type": "stream",
     "text": [
      "No molecules.csv found for nhanes_2014\n"
     ]
    }
   ],
   "source": [
    "all_molecules = {}\n",
    "for arc in archives:\n",
    "    try:\n",
    "        all_molecules[arc] = pyrfume.load_data(f'{arc}/molecules.csv')\n",
    "    except:\n",
    "        print(f'No molecules.csv found for {arc}')"
   ]
  },
  {
   "cell_type": "code",
   "execution_count": 44,
   "id": "3e6fef17",
   "metadata": {},
   "outputs": [
    {
     "name": "stdout",
     "output_type": "stream",
     "text": [
      "(28247, 5)\n"
     ]
    },
    {
     "data": {
      "text/html": [
       "<div>\n",
       "<style scoped>\n",
       "    .dataframe tbody tr th:only-of-type {\n",
       "        vertical-align: middle;\n",
       "    }\n",
       "\n",
       "    .dataframe tbody tr th {\n",
       "        vertical-align: top;\n",
       "    }\n",
       "\n",
       "    .dataframe thead th {\n",
       "        text-align: right;\n",
       "    }\n",
       "</style>\n",
       "<table border=\"1\" class=\"dataframe\">\n",
       "  <thead>\n",
       "    <tr style=\"text-align: right;\">\n",
       "      <th></th>\n",
       "      <th>MolecularWeight</th>\n",
       "      <th>IsomericSMILES</th>\n",
       "      <th>IUPACName</th>\n",
       "      <th>name</th>\n",
       "      <th>Archive</th>\n",
       "    </tr>\n",
       "    <tr>\n",
       "      <th>CID</th>\n",
       "      <th></th>\n",
       "      <th></th>\n",
       "      <th></th>\n",
       "      <th></th>\n",
       "      <th></th>\n",
       "    </tr>\n",
       "  </thead>\n",
       "  <tbody>\n",
       "    <tr>\n",
       "      <th>-35</th>\n",
       "      <td>188.336</td>\n",
       "      <td>CC(C)CC(C)(O)C1CCCS1</td>\n",
       "      <td>NaN</td>\n",
       "      <td>Isopropylmethyltetrahydrothiophenyl-ethanol</td>\n",
       "      <td>leffingwell</td>\n",
       "    </tr>\n",
       "    <tr>\n",
       "      <th>-34</th>\n",
       "      <td>300.395</td>\n",
       "      <td>CCCCCCCCC(=O)C(=O)OC(=C(C)C)C(O)CO</td>\n",
       "      <td>NaN</td>\n",
       "      <td>Isopropylideneglyceryl oxodecanoate</td>\n",
       "      <td>leffingwell</td>\n",
       "    </tr>\n",
       "    <tr>\n",
       "      <th>-33</th>\n",
       "      <td>224.344</td>\n",
       "      <td>CCCCC=COC(=O)C=CCCCCC</td>\n",
       "      <td>NaN</td>\n",
       "      <td>Hexenyl octenoate</td>\n",
       "      <td>leffingwell</td>\n",
       "    </tr>\n",
       "    <tr>\n",
       "      <th>-32</th>\n",
       "      <td>222.350</td>\n",
       "      <td>CCCC(CCOC)[SH]=C(O)OCC</td>\n",
       "      <td>NaN</td>\n",
       "      <td>Ethyl S-(1-methoxyhexan-3-yl)carbonothioate</td>\n",
       "      <td>leffingwell</td>\n",
       "    </tr>\n",
       "    <tr>\n",
       "      <th>-31</th>\n",
       "      <td>188.336</td>\n",
       "      <td>CCCCCCCCC(S)C=O</td>\n",
       "      <td>NaN</td>\n",
       "      <td>Mercaptodecanal</td>\n",
       "      <td>leffingwell</td>\n",
       "    </tr>\n",
       "  </tbody>\n",
       "</table>\n",
       "</div>"
      ],
      "text/plain": [
       "     MolecularWeight                      IsomericSMILES IUPACName  \\\n",
       "CID                                                                  \n",
       "-35          188.336                CC(C)CC(C)(O)C1CCCS1       NaN   \n",
       "-34          300.395  CCCCCCCCC(=O)C(=O)OC(=C(C)C)C(O)CO       NaN   \n",
       "-33          224.344               CCCCC=COC(=O)C=CCCCCC       NaN   \n",
       "-32          222.350              CCCC(CCOC)[SH]=C(O)OCC       NaN   \n",
       "-31          188.336                     CCCCCCCCC(S)C=O       NaN   \n",
       "\n",
       "                                            name      Archive  \n",
       "CID                                                            \n",
       "-35  Isopropylmethyltetrahydrothiophenyl-ethanol  leffingwell  \n",
       "-34          Isopropylideneglyceryl oxodecanoate  leffingwell  \n",
       "-33                            Hexenyl octenoate  leffingwell  \n",
       "-32  Ethyl S-(1-methoxyhexan-3-yl)carbonothioate  leffingwell  \n",
       "-31                              Mercaptodecanal  leffingwell  "
      ]
     },
     "execution_count": 44,
     "metadata": {},
     "output_type": "execute_result"
    }
   ],
   "source": [
    "df = pd.concat(all_molecules, axis=0).reset_index().rename(columns={'level_0': 'Archive'})\n",
    "df = df.set_index('CID').sort_index().drop_duplicates()\n",
    "df = df[['MolecularWeight', 'IsomericSMILES', 'IUPACName', 'name', 'Archive']]\n",
    "\n",
    "print(df.shape)\n",
    "df.head()"
   ]
  },
  {
   "cell_type": "code",
   "execution_count": 138,
   "id": "72a73ed8",
   "metadata": {},
   "outputs": [],
   "source": [
    "# df.to_csv(os.path.join('..', 'static', 'molecule_master_list.csv'))"
   ]
  }
 ],
 "metadata": {
  "kernelspec": {
   "display_name": "Python 3 (ipykernel)",
   "language": "python",
   "name": "python3"
  },
  "language_info": {
   "codemirror_mode": {
    "name": "ipython",
    "version": 3
   },
   "file_extension": ".py",
   "mimetype": "text/x-python",
   "name": "python",
   "nbconvert_exporter": "python",
   "pygments_lexer": "ipython3",
   "version": "3.9.12"
  },
  "vscode": {
   "interpreter": {
    "hash": "b17030d382f7bce7e9f99374757cd7c674a17b0ff30583b08c547f088882c565"
   }
  }
 },
 "nbformat": 4,
 "nbformat_minor": 5
}
