{
 "cells": [
  {
   "cell_type": "code",
   "execution_count": 45,
   "id": "2a79dd12-70fc-4ee8-91cf-8224022ffe90",
   "metadata": {},
   "outputs": [],
   "source": [
    "import pandas as pd\n",
    "import pyrfume\n",
    "import os"
   ]
  },
  {
   "cell_type": "code",
   "execution_count": 46,
   "id": "17431927",
   "metadata": {},
   "outputs": [],
   "source": [
    "archives = pyrfume.list_archives()\n",
    "\n",
    "# Skip over archives that are not for sole datasources\n",
    "# Also skip Qian 2022 since not currently formatted to proper design scheme\n",
    "skip_list = ['mordred', 'morgan', 'molecules', 'embedding', 'prediction_targets', 'tools', 'qian_2022']\n",
    "archives = [arc for arc in archives if arc not in skip_list]"
   ]
  },
  {
   "cell_type": "code",
   "execution_count": 47,
   "id": "e52250ba",
   "metadata": {},
   "outputs": [
    {
     "name": "stdout",
     "output_type": "stream",
     "text": [
      "(45, 1)\n"
     ]
    },
    {
     "data": {
      "text/html": [
       "<div>\n",
       "<style scoped>\n",
       "    .dataframe tbody tr th:only-of-type {\n",
       "        vertical-align: middle;\n",
       "    }\n",
       "\n",
       "    .dataframe tbody tr th {\n",
       "        vertical-align: top;\n",
       "    }\n",
       "\n",
       "    .dataframe thead th {\n",
       "        text-align: right;\n",
       "    }\n",
       "</style>\n",
       "<table border=\"1\" class=\"dataframe\">\n",
       "  <thead>\n",
       "    <tr style=\"text-align: right;\">\n",
       "      <th></th>\n",
       "      <th>0</th>\n",
       "    </tr>\n",
       "  </thead>\n",
       "  <tbody>\n",
       "    <tr>\n",
       "      <th>0</th>\n",
       "      <td>abraham_2012</td>\n",
       "    </tr>\n",
       "    <tr>\n",
       "      <th>1</th>\n",
       "      <td>arctander_1960</td>\n",
       "    </tr>\n",
       "    <tr>\n",
       "      <th>2</th>\n",
       "      <td>aromadb</td>\n",
       "    </tr>\n",
       "    <tr>\n",
       "      <th>3</th>\n",
       "      <td>arshamian_2022</td>\n",
       "    </tr>\n",
       "    <tr>\n",
       "      <th>4</th>\n",
       "      <td>burton_2022</td>\n",
       "    </tr>\n",
       "  </tbody>\n",
       "</table>\n",
       "</div>"
      ],
      "text/plain": [
       "                0\n",
       "0    abraham_2012\n",
       "1  arctander_1960\n",
       "2         aromadb\n",
       "3  arshamian_2022\n",
       "4     burton_2022"
      ]
     },
     "execution_count": 47,
     "metadata": {},
     "output_type": "execute_result"
    }
   ],
   "source": [
    "archives_df = pd.DataFrame(archives)\n",
    "\n",
    "print(archives_df.shape)\n",
    "archives_df.head()"
   ]
  },
  {
   "cell_type": "code",
   "execution_count": 48,
   "id": "14a942d3",
   "metadata": {},
   "outputs": [],
   "source": [
    "# archives_df.to_csv(os.path.join('..', 'static', 'archive_list.csv'), header=None, index=None)"
   ]
  },
  {
   "cell_type": "code",
   "execution_count": 7,
   "id": "e5da3cb5",
   "metadata": {},
   "outputs": [
    {
     "name": "stdout",
     "output_type": "stream",
     "text": [
      "No molecules.csv found for nhanes_2014\n",
      "No molecules.csv found for qian_2022\n"
     ]
    }
   ],
   "source": [
    "all_molecules = {}\n",
    "for arc in archives:\n",
    "    try:\n",
    "        all_molecules[arc] = pyrfume.load_data(f'{arc}/molecules.csv')\n",
    "    except:\n",
    "        print(f'No molecules.csv found for {arc}')"
   ]
  },
  {
   "cell_type": "code",
   "execution_count": 23,
   "id": "3e6fef17",
   "metadata": {},
   "outputs": [
    {
     "name": "stdout",
     "output_type": "stream",
     "text": [
      "(181630, 5)\n"
     ]
    },
    {
     "data": {
      "text/html": [
       "<div>\n",
       "<style scoped>\n",
       "    .dataframe tbody tr th:only-of-type {\n",
       "        vertical-align: middle;\n",
       "    }\n",
       "\n",
       "    .dataframe tbody tr th {\n",
       "        vertical-align: top;\n",
       "    }\n",
       "\n",
       "    .dataframe thead th {\n",
       "        text-align: right;\n",
       "    }\n",
       "</style>\n",
       "<table border=\"1\" class=\"dataframe\">\n",
       "  <thead>\n",
       "    <tr style=\"text-align: right;\">\n",
       "      <th></th>\n",
       "      <th>MolecularWeight</th>\n",
       "      <th>IsomericSMILES</th>\n",
       "      <th>IUPACName</th>\n",
       "      <th>name</th>\n",
       "      <th>Archive</th>\n",
       "    </tr>\n",
       "    <tr>\n",
       "      <th>CID</th>\n",
       "      <th></th>\n",
       "      <th></th>\n",
       "      <th></th>\n",
       "      <th></th>\n",
       "      <th></th>\n",
       "    </tr>\n",
       "  </thead>\n",
       "  <tbody>\n",
       "    <tr>\n",
       "      <th>-168</th>\n",
       "      <td>358.287180</td>\n",
       "      <td>[C@H]1(CC[C@](OO1)(CCCC</td>\n",
       "      <td>NaN</td>\n",
       "      <td>Peroxyacarnoic acid methyl ester A</td>\n",
       "      <td>knapsack</td>\n",
       "    </tr>\n",
       "    <tr>\n",
       "      <th>-167</th>\n",
       "      <td>246.161980</td>\n",
       "      <td>C(=O)(CCCCCC</td>\n",
       "      <td>NaN</td>\n",
       "      <td>cis-Hexadec-11-en-7,9-diynoic acid</td>\n",
       "      <td>knapsack</td>\n",
       "    </tr>\n",
       "    <tr>\n",
       "      <th>-166</th>\n",
       "      <td>380.256274</td>\n",
       "      <td>[C@]1(C/C=C/[C@@](CC(=O)[C@@](CC[C@H](/C=C/1)C...</td>\n",
       "      <td>NaN</td>\n",
       "      <td>Sartol acetate B</td>\n",
       "      <td>knapsack</td>\n",
       "    </tr>\n",
       "    <tr>\n",
       "      <th>-165</th>\n",
       "      <td>366.161980</td>\n",
       "      <td>[C@H](C</td>\n",
       "      <td>NaN</td>\n",
       "      <td>Capillaridin H</td>\n",
       "      <td>knapsack</td>\n",
       "    </tr>\n",
       "    <tr>\n",
       "      <th>-164</th>\n",
       "      <td>366.161980</td>\n",
       "      <td>[C@H](C</td>\n",
       "      <td>NaN</td>\n",
       "      <td>Capillaridin G</td>\n",
       "      <td>knapsack</td>\n",
       "    </tr>\n",
       "  </tbody>\n",
       "</table>\n",
       "</div>"
      ],
      "text/plain": [
       "      MolecularWeight                                     IsomericSMILES  \\\n",
       "CID                                                                        \n",
       "-168       358.287180                            [C@H]1(CC[C@](OO1)(CCCC   \n",
       "-167       246.161980                                       C(=O)(CCCCCC   \n",
       "-166       380.256274  [C@]1(C/C=C/[C@@](CC(=O)[C@@](CC[C@H](/C=C/1)C...   \n",
       "-165       366.161980                                            [C@H](C   \n",
       "-164       366.161980                                            [C@H](C   \n",
       "\n",
       "     IUPACName                                name   Archive  \n",
       "CID                                                           \n",
       "-168       NaN  Peroxyacarnoic acid methyl ester A  knapsack  \n",
       "-167       NaN  cis-Hexadec-11-en-7,9-diynoic acid  knapsack  \n",
       "-166       NaN                    Sartol acetate B  knapsack  \n",
       "-165       NaN                      Capillaridin H  knapsack  \n",
       "-164       NaN                      Capillaridin G  knapsack  "
      ]
     },
     "execution_count": 23,
     "metadata": {},
     "output_type": "execute_result"
    }
   ],
   "source": [
    "df = pd.concat(all_molecules, axis=0).reset_index().rename(columns={'level_0': 'Archive'})\n",
    "df = df.set_index('CID').sort_index().drop_duplicates()\n",
    "df = df[['MolecularWeight', 'IsomericSMILES', 'IUPACName', 'name', 'Archive']]\n",
    "\n",
    "print(df.shape)\n",
    "df.head()"
   ]
  },
  {
   "cell_type": "code",
   "execution_count": 138,
   "id": "72a73ed8",
   "metadata": {},
   "outputs": [],
   "source": [
    "# df.to_csv(os.path.join('..', 'static', 'molecule_master_list.csv'))"
   ]
  }
 ],
 "metadata": {
  "kernelspec": {
   "display_name": "Python 3 (ipykernel)",
   "language": "python",
   "name": "python3"
  },
  "language_info": {
   "codemirror_mode": {
    "name": "ipython",
    "version": 3
   },
   "file_extension": ".py",
   "mimetype": "text/x-python",
   "name": "python",
   "nbconvert_exporter": "python",
   "pygments_lexer": "ipython3",
   "version": "3.9.12"
  },
  "vscode": {
   "interpreter": {
    "hash": "b17030d382f7bce7e9f99374757cd7c674a17b0ff30583b08c547f088882c565"
   }
  }
 },
 "nbformat": 4,
 "nbformat_minor": 5
}
